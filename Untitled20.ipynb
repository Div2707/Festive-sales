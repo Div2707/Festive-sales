{
 "cells": [
  {
   "cell_type": "code",
   "execution_count": 1,
   "id": "c010794e",
   "metadata": {},
   "outputs": [
    {
     "name": "stdout",
     "output_type": "stream",
     "text": [
      "[1, 2, 3, 4]\n"
     ]
    }
   ],
   "source": [
    "l=[1,2,3]#we need a object to call a method but we dont need any object to call a function\n",
    "l1=4\n",
    "l.append(l1)\n",
    "print(l)"
   ]
  },
  {
   "cell_type": "code",
   "execution_count": 2,
   "id": "1794c2df",
   "metadata": {},
   "outputs": [
    {
     "name": "stdout",
     "output_type": "stream",
     "text": [
      "[4, 2, 3, 4]\n"
     ]
    }
   ],
   "source": [
    "l[0]=4\n",
    "print(l)"
   ]
  },
  {
   "cell_type": "code",
   "execution_count": 3,
   "id": "5064d5f0",
   "metadata": {},
   "outputs": [
    {
     "name": "stdout",
     "output_type": "stream",
     "text": [
      "[4, 2, 3, 4, [5, 6, 7]]\n"
     ]
    }
   ],
   "source": [
    "l2=[5,6,7]\n",
    "l.append(l2)\n",
    "print(l)"
   ]
  },
  {
   "cell_type": "code",
   "execution_count": 4,
   "id": "11c91aaf",
   "metadata": {},
   "outputs": [
    {
     "name": "stdout",
     "output_type": "stream",
     "text": [
      "[4, 2, 3, 4, [5, 6, 7], 5, 6, 7]\n"
     ]
    }
   ],
   "source": [
    "l.extend(l2)\n",
    "print(l)"
   ]
  },
  {
   "cell_type": "code",
   "execution_count": 5,
   "id": "965c2c1c",
   "metadata": {},
   "outputs": [
    {
     "name": "stdout",
     "output_type": "stream",
     "text": [
      "[4, 2, 5, 3, 4, [5, 6, 7], 5, 6, 7]\n"
     ]
    }
   ],
   "source": [
    "l.insert(2,5)\n",
    "print(l)"
   ]
  },
  {
   "cell_type": "markdown",
   "id": "8422a7de",
   "metadata": {},
   "source": [
    "Q. Difference between sort and sorted?\n",
    "ans. "
   ]
  },
  {
   "cell_type": "code",
   "execution_count": 21,
   "id": "d58043bc",
   "metadata": {},
   "outputs": [
    {
     "name": "stdout",
     "output_type": "stream",
     "text": [
      "enter your pin456\n",
      "456\n",
      "456\n"
     ]
    }
   ],
   "source": [
    "class atm():\n",
    "    def __init__(self):\n",
    "        self.__pin=\"\"\n",
    "        self.cb()\n",
    "        print(self.__pin)\n",
    "    def cb(self):\n",
    "        pin=input(\"enter your pin\")\n",
    "        self.__pin=pin\n",
    "    def check(self):\n",
    "        print(self.__pin)\n",
    "        \n",
    "        \n",
    "a=atm()\n",
    "#a._atm__pin=\"123\" # this how python reads the private instance data member/variable.\n",
    "a.__pin=\"123\"\n",
    "a.check()\n",
    "\n",
    "\n",
    "\n",
    "\n",
    "\n",
    "#-self.pin it indicates private method     "
   ]
  },
  {
   "cell_type": "code",
   "execution_count": null,
   "id": "b46912a5",
   "metadata": {},
   "outputs": [],
   "source": []
  }
 ],
 "metadata": {
  "kernelspec": {
   "display_name": "Python 3 (ipykernel)",
   "language": "python",
   "name": "python3"
  },
  "language_info": {
   "codemirror_mode": {
    "name": "ipython",
    "version": 3
   },
   "file_extension": ".py",
   "mimetype": "text/x-python",
   "name": "python",
   "nbconvert_exporter": "python",
   "pygments_lexer": "ipython3",
   "version": "3.11.2"
  }
 },
 "nbformat": 4,
 "nbformat_minor": 5
}
